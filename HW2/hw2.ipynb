{
 "cells": [
  {
   "cell_type": "code",
   "execution_count": null,
   "metadata": {},
   "outputs": [],
   "source": []
  },
  {
   "attachments": {},
   "cell_type": "markdown",
   "metadata": {},
   "source": [
    "## Conjugate gradient method\n",
    "Given $$\n",
    "A=\\begin{pmatrix}\n",
    "3 & -2\\\\\n",
    "-2 & 5\n",
    "\\end{pmatrix}, \\quad\n",
    "\\textbf{b}=\\begin{pmatrix}\n",
    "-1\\\\8\n",
    "\\end{pmatrix}, \\quad\n",
    "c=2. $$"
   ]
  },
  {
   "cell_type": "markdown",
   "metadata": {},
   "source": []
  },
  {
   "attachments": {},
   "cell_type": "markdown",
   "metadata": {},
   "source": [
    "## Sigmoid function\n",
    "Sigmoid function is defined as $g(z)=\\frac{1}{1+e^{-z}}$.\n",
    "- (a) \n",
    "$$\\begin{align*} \n",
    "g(z)+g(-z) & =\\frac{1}{1+e^{-z}}+\\frac{1}{1+e^{z}} \\\\\n",
    "           & =\\frac{e^z}{e^z+1}+\\frac{1}{1+e^{z}} \\\\\n",
    "           & =\\frac{1+e^{z}}{1+e^{z}} \\\\\n",
    "           & =1\n",
    "  \\end{align*} $$\n",
    "- (b) \n",
    "$$\\begin{align*} \n",
    "g'(z) & =\\frac{e^{-z}}{(1+e^{-z})^2} \\\\\n",
    "           & =\\frac{1}{1+e^{-z}}\\frac{1}{e^z+1} \\\\\n",
    "           & = g(z)g(-z) \\\\\n",
    "  \\end{align*} $$ \n",
    "  By part (a), $g(-z)=1-g(z)$, hence we have\n",
    "$$g'(z)=g(z)g(-z)=g(z)g[1-g(z)]$$\n",
    "- (c) Plugging $-z$ into the equation in part (b), we get\n",
    "$$ g'(-z)=g(-z)g(z)=g'(z)$$\n",
    "- (d) $$\\begin{align*}\n",
    "g''(z) & =\\frac{d}{dz}g'(z)\\\\\n",
    "& =\\frac{d}{dz}(g(z)g(-z))  & & \\text{by part (c)}\\\\\n",
    "& =g'(z)g(-z)-g(z)g'(-z)\\\\\n",
    "& = [g(z)g(-z)]g(-z)-g(z)[g(-z)g(z)] & & \\text{by part (c)}\\\\\n",
    "& = g(z)g(-z)[g(-z)-g(z)]\\\\\n",
    "\\end{align*} $$"
   ]
  },
  {
   "cell_type": "markdown",
   "metadata": {},
   "source": []
  }
 ],
 "metadata": {
  "kernelspec": {
   "display_name": "Python 3",
   "language": "python",
   "name": "python3"
  },
  "language_info": {
   "name": "python",
   "version": "3.10.5"
  },
  "orig_nbformat": 4,
  "vscode": {
   "interpreter": {
    "hash": "f4fc7a72087d620f5169c5a43d584c8adcef658a8ece7f728481dfe973e75107"
   }
  }
 },
 "nbformat": 4,
 "nbformat_minor": 2
}
