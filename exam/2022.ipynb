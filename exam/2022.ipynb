{
 "cells": [
  {
   "cell_type": "code",
   "execution_count": 172,
   "metadata": {},
   "outputs": [],
   "source": [
    "import random\n",
    "import numpy as np\n",
    "import pandas as pd\n",
    "from pandas import DataFrame\n",
    "from numpy import linalg as la\n",
    "import matplotlib.pyplot as plt\n",
    "from mpl_toolkits.mplot3d import axes3d\n",
    "from IPython.display import display, Markdown, Latex"
   ]
  },
  {
   "attachments": {},
   "cell_type": "markdown",
   "metadata": {},
   "source": [
    "## 1. Multivariate Linear Regression"
   ]
  },
  {
   "attachments": {},
   "cell_type": "markdown",
   "metadata": {},
   "source": [
    "(a)  \n",
    "Hypothesis:  $$ h_{\\theta}(x) = \\theta_0+\\theta_1 x_1 +...+\\theta_n x_n $$\n",
    "where $x$ are the input features and $\\theta$ are the parameters of the model.\n",
    "\n",
    "Cost function: $$ J(\\theta) = \\frac{1}{2m} \\sum_{i=1}^{m} (h_{\\theta}(x^{(i)}) - y^{(i)})^2 $$\n",
    "where m is the number of training examples.\n",
    "\n",
    "Hessian Matrix: \n",
    "$$ H_f = \n",
    "\\begin{bmatrix}\n",
    "\\frac{\\partial^2 f}{\\partial x_1^2} & \\frac{\\partial^2 f}{\\partial x_1 \\partial x_2} & \\cdots & \\frac{\\partial^2 f}{\\partial x_1 \\partial x_n}\\\\\n",
    "\\frac{\\partial^2 f}{\\partial x_2 \\partial x_1} & \\frac{\\partial^2 f}{\\partial x_2^2} & \\cdots & \\frac{\\partial^2 f}{\\partial x_2 \\partial x_n}\\\\\n",
    "\\vdots & \\vdots & \\ddots & \\vdots \\\\\n",
    "\\frac{\\partial^2 f}{\\partial x_n \\partial x_1} & \\frac{\\partial^2 f}{\\partial x_n \\partial x_2} & \\cdots & \\frac{\\partial^2 f}{\\partial x_n^2}\n",
    "\\end{bmatrix}\n",
    "$$\n",
    "where the (i,j)th element represents the second partial derivative of the function $f$ with respect to the ith and jth variables."
   ]
  },
  {
   "attachments": {},
   "cell_type": "markdown",
   "metadata": {},
   "source": [
    "(b)  \n",
    "The three methods differ in their approach to choosing the search direction and step size.\n",
    "\n",
    "Gradient Descent method follows the direction of steepest descent as determined by the negative gradient of the function at each point. The step size is controlled by learning rate.\n",
    "\n",
    "Steepest Descent is a variant of gradient descent where the step size is chosen to be the one that minimizes the objective function along the search direction. \n",
    "\n",
    "Conjugate Gradient method follows a conjugate direction that is orthogonal to all previous search directions. It will converge within N steps for a problem with N variables."
   ]
  },
  {
   "attachments": {},
   "cell_type": "markdown",
   "metadata": {},
   "source": [
    "(c) Given \n",
    "$$A= \n",
    "\\begin{pmatrix}\n",
    "30 & 15 & 22\\\\\n",
    "15 & 26 & 12\\\\\n",
    "22 & 12 & 25\n",
    "\\end{pmatrix}, \\quad\n",
    "\\textbf{b}=\\begin{pmatrix}\n",
    "8\\\\2\\\\6\n",
    "\\end{pmatrix}, \\quad\n",
    "c=12. $$"
   ]
  },
  {
   "cell_type": "code",
   "execution_count": 22,
   "metadata": {},
   "outputs": [],
   "source": [
    "x0 = np.zeros((3, 1))\n",
    "A = np.array([[30, 15, 22], [15, 26, 12], [22, 12, 25]])\n",
    "b = np.array([[8], [2], [6]])\n",
    "c = 12"
   ]
  },
  {
   "cell_type": "code",
   "execution_count": 23,
   "metadata": {},
   "outputs": [],
   "source": [
    "def f(x, A, b, c):\n",
    "    return 0.5*x.T.dot(A).dot(x) - b.T.dot(x) + c\n",
    "\n",
    "\n",
    "def conj_grad(A, x, eps):\n",
    "    steps = [(x[:, 0])]\n",
    "    r = b - A.dot(x)\n",
    "    p = r\n",
    "    res = [r]\n",
    "    conj = [p]\n",
    "    rsold = r.T.dot(r)\n",
    "    rs0 = rsold\n",
    "    while rsold > eps**2 * rs0:\n",
    "        # Update the steps\n",
    "        Ap = A.dot(p)\n",
    "        alpha = rsold / p.T.dot(Ap)\n",
    "        x = x + alpha * p\n",
    "        r = r - alpha * Ap\n",
    "        rsnew = r.T.dot(r)\n",
    "        p = r + (rsnew / rsold) * p\n",
    "        rsold = rsnew\n",
    "\n",
    "        # Save the steps\n",
    "        steps.append((x[:, 0]))\n",
    "        res.append(rsnew)\n",
    "        conj.append(p)\n",
    "    return x, steps, res, conj\n"
   ]
  },
  {
   "cell_type": "code",
   "execution_count": 32,
   "metadata": {},
   "outputs": [
    {
     "name": "stdout",
     "output_type": "stream",
     "text": [
      "Local minimum occurs at [ 0.30136986 -0.10958904  0.02739726] with value 10.821917808219178.\n"
     ]
    }
   ],
   "source": [
    "eps = 0.01\n",
    "x, steps, res, conj = conj_grad(A, x0, eps)\n",
    "print('Local minimum occurs at {} with value {}.'.format( x[:, 0], f(x, A, b, c)[0, 0]))\n"
   ]
  },
  {
   "attachments": {},
   "cell_type": "markdown",
   "metadata": {},
   "source": [
    "## 2. Logistic Regression and SVM"
   ]
  },
  {
   "cell_type": "code",
   "execution_count": 35,
   "metadata": {},
   "outputs": [
    {
     "name": "stderr",
     "output_type": "stream",
     "text": [
      "Cloning into 'PHYS3151-Machine-Learning-in-Physics-2023'...\n"
     ]
    }
   ],
   "source": [
    "!git clone https://github.com/LeoisWTT/PHYS3151-Machine-Learning-in-Physics-2023"
   ]
  },
  {
   "cell_type": "code",
   "execution_count": null,
   "metadata": {},
   "outputs": [],
   "source": [
    "# Logistic regression\n",
    "class LR:\n",
    "    def __init__(self, x, y):\n",
    "        # Generate X, theta, and y\n",
    "        self.X = np.c_[np.ones((len(x), 1)), x]\n",
    "        self.theta = np.zeros((self.X.shape[1], 1))\n",
    "        self.y = y\n",
    "\n",
    "    # Computes the gradient of the cost function at the point theta\n",
    "    def gradient(self):\n",
    "        m = self.X.shape[0]\n",
    "        sigmoid = 1 / (1 + np.exp(-np.dot(self.X, self.theta)))\n",
    "        return (1 / m) * np.dot(self.X.T, sigmoid-self.y)\n",
    "\n",
    "    # Performs gradient descent to learn theta\n",
    "    def fit(self, n_iter=1000):\n",
    "        alpha = 0.5\n",
    "        I = int(n_iter/3)\n",
    "        for i in range(n_iter):\n",
    "            # Reduce the learning rate by half every n_iter/3 iterations\n",
    "            if i % I == 0:\n",
    "                alpha /= 2\n",
    "            self.theta = self.theta-alpha*self.gradient()\n",
    "        return self.theta\n"
   ]
  },
  {
   "cell_type": "code",
   "execution_count": 71,
   "metadata": {},
   "outputs": [
    {
     "data": {
      "text/html": [
       "<div>\n",
       "<style scoped>\n",
       "    .dataframe tbody tr th:only-of-type {\n",
       "        vertical-align: middle;\n",
       "    }\n",
       "\n",
       "    .dataframe tbody tr th {\n",
       "        vertical-align: top;\n",
       "    }\n",
       "\n",
       "    .dataframe thead th {\n",
       "        text-align: right;\n",
       "    }\n",
       "</style>\n",
       "<table border=\"1\" class=\"dataframe\">\n",
       "  <thead>\n",
       "    <tr style=\"text-align: right;\">\n",
       "      <th></th>\n",
       "      <th>sepal_length_cm</th>\n",
       "      <th>petal_width_cm</th>\n",
       "      <th>class</th>\n",
       "    </tr>\n",
       "  </thead>\n",
       "  <tbody>\n",
       "    <tr>\n",
       "      <th>0</th>\n",
       "      <td>5.1</td>\n",
       "      <td>0.2</td>\n",
       "      <td>1</td>\n",
       "    </tr>\n",
       "    <tr>\n",
       "      <th>1</th>\n",
       "      <td>4.9</td>\n",
       "      <td>0.2</td>\n",
       "      <td>1</td>\n",
       "    </tr>\n",
       "    <tr>\n",
       "      <th>2</th>\n",
       "      <td>4.7</td>\n",
       "      <td>0.2</td>\n",
       "      <td>1</td>\n",
       "    </tr>\n",
       "    <tr>\n",
       "      <th>3</th>\n",
       "      <td>4.6</td>\n",
       "      <td>0.2</td>\n",
       "      <td>1</td>\n",
       "    </tr>\n",
       "    <tr>\n",
       "      <th>4</th>\n",
       "      <td>5.0</td>\n",
       "      <td>0.2</td>\n",
       "      <td>1</td>\n",
       "    </tr>\n",
       "    <tr>\n",
       "      <th>5</th>\n",
       "      <td>5.4</td>\n",
       "      <td>0.4</td>\n",
       "      <td>1</td>\n",
       "    </tr>\n",
       "    <tr>\n",
       "      <th>6</th>\n",
       "      <td>4.6</td>\n",
       "      <td>0.3</td>\n",
       "      <td>1</td>\n",
       "    </tr>\n",
       "    <tr>\n",
       "      <th>7</th>\n",
       "      <td>5.0</td>\n",
       "      <td>0.2</td>\n",
       "      <td>1</td>\n",
       "    </tr>\n",
       "    <tr>\n",
       "      <th>8</th>\n",
       "      <td>4.4</td>\n",
       "      <td>0.2</td>\n",
       "      <td>1</td>\n",
       "    </tr>\n",
       "    <tr>\n",
       "      <th>9</th>\n",
       "      <td>4.9</td>\n",
       "      <td>0.1</td>\n",
       "      <td>1</td>\n",
       "    </tr>\n",
       "  </tbody>\n",
       "</table>\n",
       "</div>"
      ],
      "text/plain": [
       "   sepal_length_cm  petal_width_cm  class\n",
       "0              5.1             0.2      1\n",
       "1              4.9             0.2      1\n",
       "2              4.7             0.2      1\n",
       "3              4.6             0.2      1\n",
       "4              5.0             0.2      1\n",
       "5              5.4             0.4      1\n",
       "6              4.6             0.3      1\n",
       "7              5.0             0.2      1\n",
       "8              4.4             0.2      1\n",
       "9              4.9             0.1      1"
      ]
     },
     "execution_count": 71,
     "metadata": {},
     "output_type": "execute_result"
    }
   ],
   "source": [
    "df = pd.read_csv('./PHYS3151-Machine-Learning-in-Physics-2023/logistic-regression/iris-data.csv')\n",
    "df = df[['sepal_length_cm', 'petal_width_cm', 'class']]\n",
    "df = df.loc[df['class'].isin(['Iris-setosa', 'Iris-versicolor'])] \n",
    "df['class'] = np.where(df['class'] == 'Iris-setosa', 1, -1)\n",
    "df.head(10)\n"
   ]
  },
  {
   "cell_type": "code",
   "execution_count": 130,
   "metadata": {},
   "outputs": [],
   "source": [
    "# SVM Method\n",
    "class SVM:\n",
    "    def __init__(self, x, y):\n",
    "        # Generate X, theta, and y\n",
    "        self.X = np.c_[np.ones((len(x), 1)), x]\n",
    "        self.theta = np.zeros((self.X.shape[1], 1))\n",
    "        self.y = y\n",
    "\n",
    "    def check(self):\n",
    "        # Returns a matrix of 1s and 0s\n",
    "        fx = np.multiply(self.y, (self.X.dot(self.theta)))\n",
    "        check = np.less(fx, np.ones(fx.shape))\n",
    "        check = np.where(check == True, 1, 0)\n",
    "        return check\n",
    "\n",
    "    def fit(self, n_iter=1000):\n",
    "        m = float(self.y.shape[0])\n",
    "\n",
    "        alpha = 0.5\n",
    "        X, y = self.X, self.y\n",
    "        for i in range(n_iter):\n",
    "\n",
    "            I = int(n_iter/3)\n",
    "            # Reduce the learning rate by half every iterations/3 iterations\n",
    "            if i % I == 0:\n",
    "                alpha /= 2\n",
    "            self.theta = self.theta + alpha * \\\n",
    "                ((np.multiply(self.check(), y)).T.dot(X)).T\n",
    "            self.theta[1:] = self.theta[1:] - alpha*self.theta[1:]/m\n",
    "\n",
    "        return self.theta\n"
   ]
  },
  {
   "cell_type": "code",
   "execution_count": 131,
   "metadata": {},
   "outputs": [],
   "source": [
    "n_iter = 1000  # number of iterations\n",
    "model2 = SVM(df[['sepal_length_cm', 'petal_width_cm']].to_numpy(), df['class'].to_numpy().reshape(100,1))\n",
    "w = model2.fit(n_iter)"
   ]
  },
  {
   "cell_type": "code",
   "execution_count": 132,
   "metadata": {},
   "outputs": [],
   "source": [
    "x = np.arange(4,7.5,0.1)\n",
    "y = -(w[1]/w[2])*x - w[0]/w[2]\n"
   ]
  },
  {
   "cell_type": "code",
   "execution_count": 133,
   "metadata": {},
   "outputs": [
    {
     "data": {
      "image/png": "[encoded data removed]",
      "text/plain": [
       "<Figure size 504x360 with 1 Axes>"
      ]
     },
     "metadata": {
      "needs_background": "light"
     },
     "output_type": "display_data"
    }
   ],
   "source": [
    "fig, ax = plt.subplots(figsize=(7, 5))\n",
    "A = df.loc[df['class'] == 1]\n",
    "B = df.loc[df['class'] == -1]\n",
    "ax.scatter(A['sepal_length_cm'], A['petal_width_cm'], label='Iris-setosa', c='g')\n",
    "ax.scatter(B['sepal_length_cm'], B['petal_width_cm'], label='Iris-versicolor', c='violet')\n",
    "plt.plot(x,y)\n",
    "plt.xlabel('Sepal Length (cm)')\n",
    "plt.ylabel('Petal Width (cm)')\n",
    "plt.title('SVM')\n",
    "plt.legend()\n",
    "plt.show()\n"
   ]
  },
  {
   "attachments": {},
   "cell_type": "markdown",
   "metadata": {},
   "source": [
    "## 3. PCA and Clustering"
   ]
  },
  {
   "attachments": {},
   "cell_type": "markdown",
   "metadata": {},
   "source": [
    "(a) Compute the covariance matrix $\\Sigma$. Then perform singular value decomposition on $\\Sigma$ to get its eigenvalues and eigenvectors of $\\Sigma$."
   ]
  },
  {
   "cell_type": "code",
   "execution_count": 134,
   "metadata": {},
   "outputs": [
    {
     "name": "stdout",
     "output_type": "stream",
     "text": [
      "232\n"
     ]
    }
   ],
   "source": [
    "z = np.zeros(x.shape)\n",
    "x_mean = np.mean(x, axis=0)\n",
    "x_std = np.std(x, axis=0, ddof=0)\n",
    "for i in range(100):\n",
    "    z[:, i] = (x_mean[i]-x[:, i])\n",
    "\n",
    "cov = np.cov(z, rowvar=False)\n",
    "U, sigma, VT = la.svd(cov) # sigma is eigenvalue, U is eigenvector\n",
    "\n",
    "print('The covariance matrix is: \\n{}\\n'.format(cov))\n",
    "print('The eigenvalues are: {}\\n'.format(sigma))\n",
    "print('The eigenvectors are: {}\\n'.format(U))\n"
   ]
  },
  {
   "attachments": {},
   "cell_type": "markdown",
   "metadata": {},
   "source": [
    "(b) Project the data onto the first three components and group the reduced data to three clusters using the K-means \n",
    "algorithm."
   ]
  },
  {
   "cell_type": "code",
   "execution_count": null,
   "metadata": {},
   "outputs": [],
   "source": [
    "def reduce_system(U, dimension):\n",
    "    U_reduced = U[:, :dimension]\n",
    "    reduced_vec = np.dot(z, U_reduced)\n",
    "    var = np.sum(sigma[:dimension])/np.sum(sigma[:])\n",
    "    return reduced_vec, var"
   ]
  },
  {
   "cell_type": "code",
   "execution_count": null,
   "metadata": {},
   "outputs": [],
   "source": [
    "reducevec, vari = reduce_system(U, 3)\n",
    "\n",
    "fig = plt.figure(figsize=(12, 12))\n",
    "ax = fig.add_subplot(projection='3d')\n",
    "p = ax.scatter(reducevec[:, 0], reducevec[:, 1],\n",
    "               reducevec[:, 2], c=t, cmap=\"coolwarm\")\n",
    "\n",
    "ax.set_xlabel('pc1')\n",
    "ax.set_ylabel('pc2')\n",
    "ax.set_zlabel('pc3')\n",
    "cb = fig.colorbar(p, shrink=0.55)\n",
    "cb.set_label(label='$T$', labelpad=10)\n",
    "plt.show()"
   ]
  },
  {
   "cell_type": "code",
   "execution_count": null,
   "metadata": {},
   "outputs": [],
   "source": [
    "def K_mean(pc, K=3, jmax=10):\n",
    "    # step 1 - choose 3 clusters at random\n",
    "    # step 2 - select random point as centroids\n",
    "    a = random.sample(range(0, len(pc)-1), K)\n",
    "    Centroids = np.zeros((K, 3))\n",
    "    for i in range(K):\n",
    "        Centroids[i, 0] = pc[a[i]][0]\n",
    "        Centroids[i, 1] = pc[a[i]][1]\n",
    "        Centroids[i, 2] = pc[a[i]][2]\n",
    "    diff = 1\n",
    "    j = 0\n",
    "    Centroids = pd.DataFrame(Centroids)\n",
    "    Centroids.columns = ['pc1', 'pc2', 'pc3']\n",
    "    principalComponents = pd.DataFrame(pc)\n",
    "    principalComponents.columns = ['pc1', 'pc2', 'pc3']\n",
    "    while (diff != 0):\n",
    "        XD = principalComponents\n",
    "        i = 1\n",
    "    # step 3 - assign all the points to the closest cluster centroid\n",
    "        for index1, row_c in Centroids.iterrows():\n",
    "            ED = []\n",
    "            for index2, row_d in XD.iterrows():\n",
    "                d1 = (row_c[\"pc1\"] - row_d[\"pc1\"])**2\n",
    "                d2 = (row_c[\"pc2\"] - row_d[\"pc2\"])**2\n",
    "                d3 = (row_c[\"pc3\"] - row_d[\"pc3\"])**2\n",
    "                d = np.sqrt(d1+d2+d3)\n",
    "                ED.append(d)\n",
    "            principalComponents[i] = ED\n",
    "            i = i + 1\n",
    "\n",
    "        C = []\n",
    "        for index, row in principalComponents.iterrows():\n",
    "            min_dist = row[1]\n",
    "            pos = 1\n",
    "            for i in range(K):\n",
    "                if row[i+1] < min_dist:\n",
    "                    min_dist = row[i+1]\n",
    "                    pos = i + 1\n",
    "            C.append(pos)\n",
    "        principalComponents[\"Cluster\"] = C\n",
    "    # step 4 - recompute centroids of newly formed clusters\n",
    "        Centroids_new = principalComponents.groupby(\n",
    "            [\"Cluster\"]).mean()[[\"pc3\", \"pc2\", \"pc1\"]]\n",
    "    # step 5 - repeat 3 and 4\n",
    "        if j == 0:\n",
    "            diff = 1\n",
    "            j = j+1\n",
    "        elif j < jmax:\n",
    "            diff = ((Centroids_new['pc3'] - Centroids['pc3'])**2).sum() + ((Centroids_new['pc2'] -\n",
    "                                                                            Centroids['pc2'])**2).sum() + ((Centroids_new['pc1'] - Centroids['pc1'])**2).sum()\n",
    "        else:\n",
    "            diff = 0\n",
    "        Centroids = principalComponents.groupby([\"Cluster\"]).mean()[\n",
    "            [\"pc3\", \"pc2\", \"pc1\"]]\n",
    "    return principalComponents, Centroids\n"
   ]
  },
  {
   "cell_type": "code",
   "execution_count": null,
   "metadata": {},
   "outputs": [],
   "source": [
    "fig = plt.figure(figsize=(12, 12))\n",
    "ax = fig.add_subplot(projection='3d')\n",
    "\n",
    "for k in range(K):\n",
    "    data = principalComponents[principalComponents[\"Cluster\"] == k+1]\n",
    "    ax.scatter(data[\"pc1\"], data[\"pc2\"], data[\"pc3\"], alpha=0.5)\n",
    "\n",
    "ax.scatter(Centroids[\"pc1\"], Centroids[\"pc2\"], Centroids[\"pc3\"], c='red')\n",
    "ax.set_xlabel('pc1')\n",
    "ax.set_ylabel('pc2')\n",
    "ax.set_zlabel('pc3')\n",
    "plt.show()\n"
   ]
  },
  {
   "attachments": {},
   "cell_type": "markdown",
   "metadata": {},
   "source": [
    "## 4. Neural Networks"
   ]
  },
  {
   "attachments": {},
   "cell_type": "markdown",
   "metadata": {},
   "source": [
    "(a) Schematic plot of perceptron"
   ]
  },
  {
   "attachments": {},
   "cell_type": "markdown",
   "metadata": {},
   "source": [
    "(b) Denote the input layer as first layer, the hidden layer as second layer, and the output layer as third layer. The number of nodes in each layer is 2, 5, 1 respectively."
   ]
  },
  {
   "cell_type": "code",
   "execution_count": 202,
   "metadata": {},
   "outputs": [],
   "source": [
    "x = np.array([[3, 2], [5, 1]])\n",
    "y = np.array([[2, 1]])\n",
    "sizes = [2,5,1]"
   ]
  },
  {
   "cell_type": "code",
   "execution_count": 158,
   "metadata": {},
   "outputs": [],
   "source": [
    "def sigmoid(z):\n",
    "    return 1.0/(1.0+np.exp(-z))\n",
    "\n",
    "\n",
    "def sigmoid_prime(z):\n",
    "    return sigmoid(z)*(1-sigmoid(z))\n"
   ]
  },
  {
   "cell_type": "code",
   "execution_count": 204,
   "metadata": {},
   "outputs": [],
   "source": [
    "num_layers = len(sizes)\n",
    "biases = [np.ones((y, 1)) for y in sizes[1:]]\n",
    "weights = [np.ones((y, x)) for x, y in zip(sizes[:-1], sizes[1:])]\n",
    "nabla_b = [np.zeros(b.shape) for b in biases]\n",
    "nabla_w = [np.zeros(w.shape) for w in weights]\n",
    "\n",
    "activations = [x]  # list to store all the activations, layer by layer\n",
    "zs = []            # list to store all the z vectors, layer by layer\n",
    "\n",
    "a = x\n",
    "m = x.shape[1]\n",
    "\n",
    "# forward propogation\n",
    "for b, w in zip(biases, weights):\n",
    "    z = np.dot(w, a) + b\n",
    "    zs.append(z)\n",
    "    a = sigmoid(z)\n",
    "    activations.append(a)\n",
    "\n",
    "\n",
    "# backward propogation\n",
    "delta = (activations[-1]-y)*sigmoid_prime(zs[-1])\n",
    "nabla_b[-1] = np.sum(delta, axis=1, keepdims=True)\n",
    "nabla_w[-1] = np.dot(delta, activations[-2].T)\n",
    "for l in range(2, num_layers):\n",
    "    delta = np.dot(weights[-l+1].T, delta) * sigmoid_prime(zs[-l])\n",
    "    nabla_b[-l] = np.sum(delta, axis=1, keepdims=True)\n",
    "    nabla_w[-l] = np.dot(delta, activations[-l-1].T)\n"
   ]
  },
  {
   "cell_type": "code",
   "execution_count": 215,
   "metadata": {},
   "outputs": [
    {
     "data": {
      "text/markdown": [
       "$$\\frac{\\partial J}{\\partial \\Theta^1_{10} } = -4.3411e-07 \\quad\\frac{\\partial J}{\\partial \\Theta^{ 1 }_{ 1 1 } }= -1.1735e-06 \\quad\\frac{\\partial J}{\\partial \\Theta^{ 1 }_{ 1 2 } }= -1.6551e-06 \\quad$$"
      ],
      "text/plain": [
       "<IPython.core.display.Markdown object>"
      ]
     },
     "metadata": {},
     "output_type": "display_data"
    },
    {
     "data": {
      "text/markdown": [
       "$$\\frac{\\partial J}{\\partial \\Theta^1_{20} } = -4.3411e-07 \\quad\\frac{\\partial J}{\\partial \\Theta^{ 1 }_{ 2 1 } }= -1.1735e-06 \\quad\\frac{\\partial J}{\\partial \\Theta^{ 1 }_{ 2 2 } }= -1.6551e-06 \\quad$$"
      ],
      "text/plain": [
       "<IPython.core.display.Markdown object>"
      ]
     },
     "metadata": {},
     "output_type": "display_data"
    },
    {
     "data": {
      "text/markdown": [
       "$$\\frac{\\partial J}{\\partial \\Theta^1_{30} } = -4.3411e-07 \\quad\\frac{\\partial J}{\\partial \\Theta^{ 1 }_{ 3 1 } }= -1.1735e-06 \\quad\\frac{\\partial J}{\\partial \\Theta^{ 1 }_{ 3 2 } }= -1.6551e-06 \\quad$$"
      ],
      "text/plain": [
       "<IPython.core.display.Markdown object>"
      ]
     },
     "metadata": {},
     "output_type": "display_data"
    },
    {
     "data": {
      "text/markdown": [
       "$$\\frac{\\partial J}{\\partial \\Theta^1_{40} } = -4.3411e-07 \\quad\\frac{\\partial J}{\\partial \\Theta^{ 1 }_{ 4 1 } }= -1.1735e-06 \\quad\\frac{\\partial J}{\\partial \\Theta^{ 1 }_{ 4 2 } }= -1.6551e-06 \\quad$$"
      ],
      "text/plain": [
       "<IPython.core.display.Markdown object>"
      ]
     },
     "metadata": {},
     "output_type": "display_data"
    },
    {
     "data": {
      "text/markdown": [
       "$$\\frac{\\partial J}{\\partial \\Theta^1_{50} } = -4.3411e-07 \\quad\\frac{\\partial J}{\\partial \\Theta^{ 1 }_{ 5 1 } }= -1.1735e-06 \\quad\\frac{\\partial J}{\\partial \\Theta^{ 1 }_{ 5 2 } }= -1.6551e-06 \\quad$$"
      ],
      "text/plain": [
       "<IPython.core.display.Markdown object>"
      ]
     },
     "metadata": {},
     "output_type": "display_data"
    },
    {
     "data": {
      "text/markdown": [
       "$$\\frac{\\partial J}{\\partial \\Theta^2_{10} } = -0.0024814 \\quad\\frac{\\partial J}{\\partial \\Theta^{ 2 }_{ 1 1 } }= -0.002481 \\quad\\frac{\\partial J}{\\partial \\Theta^{ 2 }_{ 1 2 } }= -0.002481 \\quad\\frac{\\partial J}{\\partial \\Theta^{ 2 }_{ 1 3 } }= -0.002481 \\quad\\frac{\\partial J}{\\partial \\Theta^{ 2 }_{ 1 4 } }= -0.002481 \\quad\\frac{\\partial J}{\\partial \\Theta^{ 2 }_{ 1 5 } }= -0.002481 \\quad$$"
      ],
      "text/plain": [
       "<IPython.core.display.Markdown object>"
      ]
     },
     "metadata": {},
     "output_type": "display_data"
    }
   ],
   "source": [
    "for l, (nw, nb) in enumerate(zip(nabla_w, nabla_b)):\n",
    "    for i in range(nw.shape[0]):\n",
    "        text = '$$\\\\frac{{\\\\partial J}}{{\\\\partial \\\\Theta^{}_{{{}0}} }} = {:.5} \\\\quad'.format(\n",
    "            l+1, i+1, nb[i][0])\n",
    "        for j in range(nw.shape[1]):\n",
    "            text += '\\\\frac{{\\partial J}}{{\\\\partial \\\\Theta^{{ {} }}_{{ {} {} }} }}= {:.5} \\\\quad'.format(\n",
    "                l+1, i+1, j+1, nw[i][j])\n",
    "        display(Markdown(text+'$$'))\n"
   ]
  }
 ],
 "metadata": {
  "kernelspec": {
   "display_name": "Python 3",
   "language": "python",
   "name": "python3"
  },
  "language_info": {
   "codemirror_mode": {
    "name": "ipython",
    "version": 3
   },
   "file_extension": ".py",
   "mimetype": "text/x-python",
   "name": "python",
   "nbconvert_exporter": "python",
   "pygments_lexer": "ipython3",
   "version": "3.10.5"
  },
  "orig_nbformat": 4
 },
 "nbformat": 4,
 "nbformat_minor": 2
}
